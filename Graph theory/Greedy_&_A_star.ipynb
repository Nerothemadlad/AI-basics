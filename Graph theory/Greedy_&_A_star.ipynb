{
 "cells": [
  {
   "cell_type": "markdown",
   "metadata": {},
   "source": [
    "### Graph 1 information"
   ]
  },
  {
   "cell_type": "code",
   "execution_count": 2,
   "metadata": {},
   "outputs": [],
   "source": [
    "graph1 = {\n",
    "    'S': [('A', 2), ('B', 1), ('F', 3)],\n",
    "    'A': [('C', 2), ('D', 3)],\n",
    "    'B': [('D', 2), ('E', 4)],\n",
    "    'F': [('G', 6)],\n",
    "    'C': [('G', 4)],\n",
    "    'D': [('G', 4)],\n",
    "    'E': [],\n",
    "    'G': []\n",
    "}\n",
    "\n",
    "heuristic1 = {\n",
    "    'S': 6,\n",
    "    'A': 4,\n",
    "    'B': 5,\n",
    "    'C': 2,\n",
    "    'D': 2,\n",
    "    'E': 8,\n",
    "    'F': 4,\n",
    "    'G': 0\n",
    "}"
   ]
  },
  {
   "cell_type": "markdown",
   "metadata": {},
   "source": [
    "### Greedy search"
   ]
  },
  {
   "cell_type": "code",
   "execution_count": 14,
   "metadata": {},
   "outputs": [
    {
     "name": "stdout",
     "output_type": "stream",
     "text": [
      "['S', 'A', 'C', 'G']\n"
     ]
    }
   ],
   "source": [
    "def greedy_search(graph, heuristic, start, end):\n",
    "    # Initialize the open list with the start node\n",
    "    open_list = [([start], heuristic[start])]\n",
    "    # Initialize the closed list as empty\n",
    "    closed_list = set()\n",
    "\n",
    "    while open_list:\n",
    "        # Sort the open list by heuristic costs\n",
    "        open_list.sort(key=lambda x: x[1])\n",
    "        # Get the path to the node with the smallest heuristic cost\n",
    "        path, _ = open_list.pop(0)\n",
    "        current_node = path[-1]\n",
    "\n",
    "        # If the current node is the goal, return the path\n",
    "        if current_node == end:\n",
    "            return path\n",
    "\n",
    "        # Add the current node to the closed list\n",
    "        closed_list.add(current_node)\n",
    "\n",
    "        # Expand the current node\n",
    "        for neighbor, _ in graph[current_node]:\n",
    "            if neighbor not in closed_list:\n",
    "                new_path = path + [neighbor]\n",
    "                # Add the neighbor to the open list\n",
    "                open_list.append((new_path, heuristic[neighbor]))\n",
    "\n",
    "    # If the goal was not found, return None\n",
    "    return None\n",
    "\n",
    "def greedy_search2(graph, heuristic, start, end):\n",
    "    # Initialize the path as a list\n",
    "    path = [start]\n",
    "    # Initialize the closed list as empty\n",
    "    closed_list = set()\n",
    "\n",
    "    while True:\n",
    "        # Get to the new node and add it to the closed list\n",
    "        current_node = path[-1]\n",
    "        closed_list.add(current_node)\n",
    "\n",
    "        # If the current node is the goal, return the path\n",
    "        if current_node == end:\n",
    "            return path\n",
    "        \n",
    "        # Check if current path is dead end\n",
    "        if not graph[current_node]:\n",
    "            return\n",
    "        \n",
    "        # Set the local minimal path to infinite\n",
    "        local_min = (None, float('inf'))\n",
    "\n",
    "        # Search for the neighbor with minimal local cost (edge + heuristic cost)\n",
    "        for neighbor, edge in graph[current_node]:\n",
    "            local_cost = edge + heuristic[neighbor]\n",
    "            if (neighbor not in closed_list) and (local_cost < local_min[1]):\n",
    "                local_min = neighbor, local_cost\n",
    "        \n",
    "        # Record the path\n",
    "        path = path + [local_min[0]]\n",
    "\n",
    "print(greedy_search(graph1, heuristic1, 'S', 'G'))"
   ]
  },
  {
   "cell_type": "markdown",
   "metadata": {},
   "source": [
    "### A* search"
   ]
  },
  {
   "cell_type": "code",
   "execution_count": 13,
   "metadata": {},
   "outputs": [
    {
     "name": "stdout",
     "output_type": "stream",
     "text": [
      "['S', 'B', 'D', 'G']\n"
     ]
    }
   ],
   "source": [
    "def a_star_search(graph, heuristic, start, end):\n",
    "    # Initialize the open list with the start node\n",
    "    open_list = [([start], heuristic[start])]\n",
    "    # Initialize the closed list as empty\n",
    "    closed_list = set()\n",
    "    # Record the minimal accumulated cost to a node explored through many paths as dict\n",
    "    min_costs = {}\n",
    "\n",
    "    while open_list:\n",
    "        # Sort the open list by total costs (accumulated + heuristic costs)\n",
    "        open_list.sort(key=lambda x: x[1])\n",
    "        # Get the path to the node with the smallest total cost and add the node to close list\n",
    "        current_path, total_cost = open_list.pop(0)\n",
    "        current_node = current_path[-1]\n",
    "        closed_list.add(current_node)\n",
    "        # Retrieve the actual accumulated cost and record it as new minimal cost to node\n",
    "        accumulated_cost = total_cost - heuristic[current_node]\n",
    "        min_costs[current_node] = accumulated_cost\n",
    "    \n",
    "\n",
    "        # If the current node is the goal, return the path\n",
    "        if current_node == end:\n",
    "            return current_path\n",
    "\n",
    "\n",
    "        # Expand the current node\n",
    "        for neighbor, edge in graph[current_node]:\n",
    "            path_cost = accumulated_cost + edge\n",
    "            # Check if the neighbor is not visited or the path cost is a new minimal\n",
    "            if (neighbor not in closed_list) or (path_cost < min_costs[neighbor]):\n",
    "                # Calculate new total cost using the heuristic function\n",
    "                new_total = path_cost + heuristic[neighbor]\n",
    "                new_path = current_path + [neighbor]\n",
    "                # Add the new path to the open list\n",
    "                open_list.append((new_path, new_total))\n",
    "\n",
    "    # If the goal was not found, return None\n",
    "    return None\n",
    "\n",
    "def a_star_search2(graph, heuristic, start, end):\n",
    "    import heapq\n",
    "    # Initialize the open list of (estimated cost, path) as a heap\n",
    "    open_list = [(heuristic[start], [start])]\n",
    "    heapq.heapify(open_list)\n",
    "    # Initialize the closed list as empty set\n",
    "    closed_list = set()\n",
    "    # Dict to record minimal accumulated costs to nodes explored through many paths\n",
    "    min_costs = {}\n",
    "\n",
    "    while open_list:\n",
    "        # Get to node with smallest total cost (accumulated + heuristic) and add it to close list\n",
    "        total_cost, current_path = heapq.heappop(open_list)\n",
    "        current_node = current_path[-1]\n",
    "        closed_list.add(current_node)\n",
    "        # Retrieve and record the accumulated cost as new minimal cost to node\n",
    "        accumulated_cost = total_cost - heuristic[current_node]\n",
    "        min_costs[current_node] = accumulated_cost\n",
    "    \n",
    "\n",
    "        # If the current node is the goal, return the path\n",
    "        if current_node == end:\n",
    "            return current_path\n",
    "\n",
    "\n",
    "        # Expand the current node\n",
    "        for neighbor, edge in graph[current_node]:\n",
    "            path_cost = accumulated_cost + edge\n",
    "            # Check if the neighbor is not visited or the path cost is a new minimal\n",
    "            if (neighbor not in closed_list) or (path_cost < min_costs[neighbor]):\n",
    "                # Calculate new total cost using the heuristic function\n",
    "                new_total = path_cost + heuristic[neighbor]\n",
    "                new_path = current_path + [neighbor]\n",
    "                # Add the new path to the open list\n",
    "                heapq.heappush(open_list, (new_total, new_path))\n",
    "\n",
    "    # If the goal was not found, return None\n",
    "    return None\n",
    "\n",
    "print(a_star_search2(graph1, heuristic1, 'S', 'G'))"
   ]
  }
 ],
 "metadata": {
  "interpreter": {
   "hash": "b5843a13e7131a14c3c0e364f0390d6592a995e3082c3f83420ac4385eeb2370"
  },
  "kernelspec": {
   "display_name": "Python 3.9.7 64-bit",
   "language": "python",
   "name": "python3"
  },
  "language_info": {
   "codemirror_mode": {
    "name": "ipython",
    "version": 3
   },
   "file_extension": ".py",
   "mimetype": "text/x-python",
   "name": "python",
   "nbconvert_exporter": "python",
   "pygments_lexer": "ipython3",
   "version": "3.9.7"
  },
  "orig_nbformat": 4
 },
 "nbformat": 4,
 "nbformat_minor": 2
}
